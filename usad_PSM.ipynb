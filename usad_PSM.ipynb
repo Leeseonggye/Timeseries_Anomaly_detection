{
 "cells": [
  {
   "cell_type": "code",
   "execution_count": 1,
   "metadata": {},
   "outputs": [
    {
     "name": "stdout",
     "output_type": "stream",
     "text": [
      "rm: cannot remove 'sample_data': No such file or directory\n"
     ]
    }
   ],
   "source": [
    "!rm -r sample_data"
   ]
  },
  {
   "cell_type": "code",
   "execution_count": 3,
   "metadata": {},
   "outputs": [
    {
     "name": "stdout",
     "output_type": "stream",
     "text": [
      "/home/seonggye/TSAD/usad/usad\n"
     ]
    }
   ],
   "source": [
    "%cd usad"
   ]
  },
  {
   "cell_type": "code",
   "execution_count": 4,
   "metadata": {},
   "outputs": [],
   "source": [
    "import numpy as np\n",
    "import pandas as pd\n",
    "import matplotlib.pyplot as plt\n",
    "import seaborn as sns\n",
    "import torch\n",
    "import torch.nn as nn\n",
    "\n",
    "from utils import *\n",
    "from usad import *"
   ]
  },
  {
   "cell_type": "code",
   "execution_count": 5,
   "metadata": {},
   "outputs": [
    {
     "name": "stdout",
     "output_type": "stream",
     "text": [
      "GPU 0: NVIDIA GeForce RTX 2080 Ti (UUID: GPU-068e030c-2069-ee5c-2a9c-7f04402c4421)\n"
     ]
    }
   ],
   "source": [
    "\n",
    "!nvidia-smi -L\n",
    "\n",
    "device = get_default_device()"
   ]
  },
  {
   "cell_type": "code",
   "execution_count": 6,
   "metadata": {},
   "outputs": [
    {
     "data": {
      "text/plain": [
       "device(type='cuda')"
      ]
     },
     "execution_count": 6,
     "metadata": {},
     "output_type": "execute_result"
    }
   ],
   "source": [
    "device"
   ]
  },
  {
   "cell_type": "markdown",
   "metadata": {},
   "source": [
    "### Normal period\n",
    "Train data"
   ]
  },
  {
   "cell_type": "code",
   "execution_count": 14,
   "metadata": {},
   "outputs": [],
   "source": [
    "normal = pd.read_csv(\"/home/seonggye/TSAD/PSM/train.csv\")"
   ]
  },
  {
   "cell_type": "code",
   "execution_count": 15,
   "metadata": {},
   "outputs": [
    {
     "data": {
      "text/plain": [
       "(132481, 25)"
      ]
     },
     "execution_count": 15,
     "metadata": {},
     "output_type": "execute_result"
    }
   ],
   "source": [
    "normal = normal.drop([\"timestamp_(min)\" ] , axis = 1)\n",
    "normal.shape"
   ]
  },
  {
   "cell_type": "code",
   "execution_count": 25,
   "metadata": {},
   "outputs": [
    {
     "data": {
      "text/plain": [
       "feature_0     float64\n",
       "feature_1     float64\n",
       "feature_2     float64\n",
       "feature_3     float64\n",
       "feature_4     float64\n",
       "feature_5     float64\n",
       "feature_6     float64\n",
       "feature_7     float64\n",
       "feature_8     float64\n",
       "feature_9     float64\n",
       "feature_10    float64\n",
       "feature_11    float64\n",
       "feature_12    float64\n",
       "feature_13    float64\n",
       "feature_14    float64\n",
       "feature_15    float64\n",
       "feature_16    float64\n",
       "feature_17    float64\n",
       "feature_18    float64\n",
       "feature_19    float64\n",
       "feature_20    float64\n",
       "feature_21    float64\n",
       "feature_22    float64\n",
       "feature_23    float64\n",
       "feature_24    float64\n",
       "dtype: object"
      ]
     },
     "execution_count": 25,
     "metadata": {},
     "output_type": "execute_result"
    }
   ],
   "source": [
    "# Dataframe value 자료형이 모두 float64 이므로 자료형 변경 불필요\n",
    "normal.dtypes"
   ]
  },
  {
   "cell_type": "code",
   "execution_count": 28,
   "metadata": {},
   "outputs": [
    {
     "name": "stdout",
     "output_type": "stream",
     "text": [
      "feature_0        0\n",
      "feature_1        0\n",
      "feature_2        0\n",
      "feature_3        0\n",
      "feature_4      202\n",
      "feature_5      249\n",
      "feature_6      563\n",
      "feature_7       47\n",
      "feature_8       47\n",
      "feature_9        0\n",
      "feature_10      47\n",
      "feature_11       0\n",
      "feature_12       0\n",
      "feature_13     249\n",
      "feature_14     202\n",
      "feature_15       0\n",
      "feature_16       0\n",
      "feature_17       0\n",
      "feature_18     202\n",
      "feature_19       0\n",
      "feature_20       0\n",
      "feature_21    2136\n",
      "feature_22     204\n",
      "feature_23       0\n",
      "feature_24      47\n",
      "dtype: int64\n"
     ]
    }
   ],
   "source": [
    "# 결측치 확인 -> 결측치가 전체 데이터셋 크기의 3% 정도이므로 drop 후 진행 \n",
    "# (시계열에서 결측치 처리 어떻게 하나요? 그냥 보간법 쓰는건가?)\n",
    "print(normal.isnull().sum())\n"
   ]
  },
  {
   "cell_type": "code",
   "execution_count": 29,
   "metadata": {},
   "outputs": [],
   "source": [
    "# 결측치 제거\n",
    "normal = normal.dropna()"
   ]
  },
  {
   "cell_type": "code",
   "execution_count": 31,
   "metadata": {},
   "outputs": [
    {
     "name": "stdout",
     "output_type": "stream",
     "text": [
      "feature_0     0\n",
      "feature_1     0\n",
      "feature_2     0\n",
      "feature_3     0\n",
      "feature_4     0\n",
      "feature_5     0\n",
      "feature_6     0\n",
      "feature_7     0\n",
      "feature_8     0\n",
      "feature_9     0\n",
      "feature_10    0\n",
      "feature_11    0\n",
      "feature_12    0\n",
      "feature_13    0\n",
      "feature_14    0\n",
      "feature_15    0\n",
      "feature_16    0\n",
      "feature_17    0\n",
      "feature_18    0\n",
      "feature_19    0\n",
      "feature_20    0\n",
      "feature_21    0\n",
      "feature_22    0\n",
      "feature_23    0\n",
      "feature_24    0\n",
      "dtype: int64\n"
     ]
    }
   ],
   "source": [
    "print(normal.isnull().sum())"
   ]
  },
  {
   "cell_type": "markdown",
   "metadata": {},
   "source": [
    "### Normalize 진행"
   ]
  },
  {
   "cell_type": "code",
   "execution_count": 32,
   "metadata": {},
   "outputs": [],
   "source": [
    "from sklearn import preprocessing\n",
    "min_max_scaler = preprocessing.MinMaxScaler()\n",
    "\n",
    "x = normal.values\n",
    "x_scaled = min_max_scaler.fit_transform(x)\n",
    "normal = pd.DataFrame(x_scaled)"
   ]
  },
  {
   "cell_type": "markdown",
   "metadata": {},
   "source": [
    "### Attack\n",
    "Test data"
   ]
  },
  {
   "cell_type": "code",
   "execution_count": 36,
   "metadata": {},
   "outputs": [
    {
     "name": "stderr",
     "output_type": "stream",
     "text": [
      "/home/seonggye/anaconda3/lib/python3.7/site-packages/IPython/core/interactiveshell.py:2785: DtypeWarning: Columns (1,9,28,46) have mixed types. Specify dtype option on import or set low_memory=False.\n",
      "  interactivity=interactivity, compiler=compiler, result=result)\n"
     ]
    }
   ],
   "source": [
    "attack = pd.read_csv(\"input/SWaT_Dataset_Attack_v0.csv\",sep=\";\")#, nrows=1000)\n",
    "labels = [ float(label!= 'Normal' ) for label  in attack[\"Normal/Attack\"].values]\n",
    "# attack = attack.drop([\"Timestamp\" , \"Normal/Attack\" ] , axis = 1)\n",
    "# attack.shape"
   ]
  },
  {
   "cell_type": "code",
   "execution_count": 59,
   "metadata": {},
   "outputs": [],
   "source": [
    "attack = pd.read_csv(\"/home/seonggye/TSAD/PSM/test.csv\")\n",
    "labels_df = pd.read_csv(\"/home/seonggye/TSAD/PSM/test_label.csv\")\n",
    "attack = attack.drop([\"timestamp_(min)\"] , axis = 1)"
   ]
  },
  {
   "cell_type": "code",
   "execution_count": 60,
   "metadata": {},
   "outputs": [
    {
     "data": {
      "text/html": [
       "<div>\n",
       "<style scoped>\n",
       "    .dataframe tbody tr th:only-of-type {\n",
       "        vertical-align: middle;\n",
       "    }\n",
       "\n",
       "    .dataframe tbody tr th {\n",
       "        vertical-align: top;\n",
       "    }\n",
       "\n",
       "    .dataframe thead th {\n",
       "        text-align: right;\n",
       "    }\n",
       "</style>\n",
       "<table border=\"1\" class=\"dataframe\">\n",
       "  <thead>\n",
       "    <tr style=\"text-align: right;\">\n",
       "      <th></th>\n",
       "      <th>timestamp_(min)</th>\n",
       "      <th>label</th>\n",
       "    </tr>\n",
       "  </thead>\n",
       "  <tbody>\n",
       "    <tr>\n",
       "      <th>0</th>\n",
       "      <td>132480.0</td>\n",
       "      <td>0</td>\n",
       "    </tr>\n",
       "    <tr>\n",
       "      <th>1</th>\n",
       "      <td>132481.0</td>\n",
       "      <td>0</td>\n",
       "    </tr>\n",
       "    <tr>\n",
       "      <th>2</th>\n",
       "      <td>132482.0</td>\n",
       "      <td>0</td>\n",
       "    </tr>\n",
       "    <tr>\n",
       "      <th>3</th>\n",
       "      <td>132483.0</td>\n",
       "      <td>0</td>\n",
       "    </tr>\n",
       "    <tr>\n",
       "      <th>4</th>\n",
       "      <td>132484.0</td>\n",
       "      <td>0</td>\n",
       "    </tr>\n",
       "    <tr>\n",
       "      <th>5</th>\n",
       "      <td>132485.0</td>\n",
       "      <td>0</td>\n",
       "    </tr>\n",
       "    <tr>\n",
       "      <th>6</th>\n",
       "      <td>132486.0</td>\n",
       "      <td>0</td>\n",
       "    </tr>\n",
       "    <tr>\n",
       "      <th>7</th>\n",
       "      <td>132487.0</td>\n",
       "      <td>0</td>\n",
       "    </tr>\n",
       "    <tr>\n",
       "      <th>8</th>\n",
       "      <td>132488.0</td>\n",
       "      <td>0</td>\n",
       "    </tr>\n",
       "    <tr>\n",
       "      <th>9</th>\n",
       "      <td>132489.0</td>\n",
       "      <td>0</td>\n",
       "    </tr>\n",
       "    <tr>\n",
       "      <th>10</th>\n",
       "      <td>132490.0</td>\n",
       "      <td>0</td>\n",
       "    </tr>\n",
       "    <tr>\n",
       "      <th>11</th>\n",
       "      <td>132491.0</td>\n",
       "      <td>0</td>\n",
       "    </tr>\n",
       "    <tr>\n",
       "      <th>12</th>\n",
       "      <td>132492.0</td>\n",
       "      <td>0</td>\n",
       "    </tr>\n",
       "    <tr>\n",
       "      <th>13</th>\n",
       "      <td>132493.0</td>\n",
       "      <td>0</td>\n",
       "    </tr>\n",
       "    <tr>\n",
       "      <th>14</th>\n",
       "      <td>132494.0</td>\n",
       "      <td>0</td>\n",
       "    </tr>\n",
       "    <tr>\n",
       "      <th>15</th>\n",
       "      <td>132495.0</td>\n",
       "      <td>0</td>\n",
       "    </tr>\n",
       "    <tr>\n",
       "      <th>16</th>\n",
       "      <td>132496.0</td>\n",
       "      <td>0</td>\n",
       "    </tr>\n",
       "    <tr>\n",
       "      <th>17</th>\n",
       "      <td>132497.0</td>\n",
       "      <td>0</td>\n",
       "    </tr>\n",
       "    <tr>\n",
       "      <th>18</th>\n",
       "      <td>132498.0</td>\n",
       "      <td>0</td>\n",
       "    </tr>\n",
       "    <tr>\n",
       "      <th>19</th>\n",
       "      <td>132499.0</td>\n",
       "      <td>0</td>\n",
       "    </tr>\n",
       "    <tr>\n",
       "      <th>20</th>\n",
       "      <td>132500.0</td>\n",
       "      <td>0</td>\n",
       "    </tr>\n",
       "    <tr>\n",
       "      <th>21</th>\n",
       "      <td>132501.0</td>\n",
       "      <td>0</td>\n",
       "    </tr>\n",
       "    <tr>\n",
       "      <th>22</th>\n",
       "      <td>132502.0</td>\n",
       "      <td>0</td>\n",
       "    </tr>\n",
       "    <tr>\n",
       "      <th>23</th>\n",
       "      <td>132503.0</td>\n",
       "      <td>0</td>\n",
       "    </tr>\n",
       "    <tr>\n",
       "      <th>24</th>\n",
       "      <td>132504.0</td>\n",
       "      <td>0</td>\n",
       "    </tr>\n",
       "    <tr>\n",
       "      <th>25</th>\n",
       "      <td>132505.0</td>\n",
       "      <td>0</td>\n",
       "    </tr>\n",
       "    <tr>\n",
       "      <th>26</th>\n",
       "      <td>132506.0</td>\n",
       "      <td>0</td>\n",
       "    </tr>\n",
       "    <tr>\n",
       "      <th>27</th>\n",
       "      <td>132507.0</td>\n",
       "      <td>0</td>\n",
       "    </tr>\n",
       "    <tr>\n",
       "      <th>28</th>\n",
       "      <td>132508.0</td>\n",
       "      <td>0</td>\n",
       "    </tr>\n",
       "    <tr>\n",
       "      <th>29</th>\n",
       "      <td>132509.0</td>\n",
       "      <td>0</td>\n",
       "    </tr>\n",
       "    <tr>\n",
       "      <th>...</th>\n",
       "      <td>...</td>\n",
       "      <td>...</td>\n",
       "    </tr>\n",
       "    <tr>\n",
       "      <th>87811</th>\n",
       "      <td>220291.0</td>\n",
       "      <td>1</td>\n",
       "    </tr>\n",
       "    <tr>\n",
       "      <th>87812</th>\n",
       "      <td>220292.0</td>\n",
       "      <td>1</td>\n",
       "    </tr>\n",
       "    <tr>\n",
       "      <th>87813</th>\n",
       "      <td>220293.0</td>\n",
       "      <td>1</td>\n",
       "    </tr>\n",
       "    <tr>\n",
       "      <th>87814</th>\n",
       "      <td>220294.0</td>\n",
       "      <td>1</td>\n",
       "    </tr>\n",
       "    <tr>\n",
       "      <th>87815</th>\n",
       "      <td>220295.0</td>\n",
       "      <td>1</td>\n",
       "    </tr>\n",
       "    <tr>\n",
       "      <th>87816</th>\n",
       "      <td>220296.0</td>\n",
       "      <td>1</td>\n",
       "    </tr>\n",
       "    <tr>\n",
       "      <th>87817</th>\n",
       "      <td>220297.0</td>\n",
       "      <td>1</td>\n",
       "    </tr>\n",
       "    <tr>\n",
       "      <th>87818</th>\n",
       "      <td>220298.0</td>\n",
       "      <td>1</td>\n",
       "    </tr>\n",
       "    <tr>\n",
       "      <th>87819</th>\n",
       "      <td>220299.0</td>\n",
       "      <td>1</td>\n",
       "    </tr>\n",
       "    <tr>\n",
       "      <th>87820</th>\n",
       "      <td>220300.0</td>\n",
       "      <td>1</td>\n",
       "    </tr>\n",
       "    <tr>\n",
       "      <th>87821</th>\n",
       "      <td>220301.0</td>\n",
       "      <td>1</td>\n",
       "    </tr>\n",
       "    <tr>\n",
       "      <th>87822</th>\n",
       "      <td>220302.0</td>\n",
       "      <td>1</td>\n",
       "    </tr>\n",
       "    <tr>\n",
       "      <th>87823</th>\n",
       "      <td>220303.0</td>\n",
       "      <td>1</td>\n",
       "    </tr>\n",
       "    <tr>\n",
       "      <th>87824</th>\n",
       "      <td>220304.0</td>\n",
       "      <td>1</td>\n",
       "    </tr>\n",
       "    <tr>\n",
       "      <th>87825</th>\n",
       "      <td>220305.0</td>\n",
       "      <td>1</td>\n",
       "    </tr>\n",
       "    <tr>\n",
       "      <th>87826</th>\n",
       "      <td>220306.0</td>\n",
       "      <td>1</td>\n",
       "    </tr>\n",
       "    <tr>\n",
       "      <th>87827</th>\n",
       "      <td>220307.0</td>\n",
       "      <td>1</td>\n",
       "    </tr>\n",
       "    <tr>\n",
       "      <th>87828</th>\n",
       "      <td>220308.0</td>\n",
       "      <td>1</td>\n",
       "    </tr>\n",
       "    <tr>\n",
       "      <th>87829</th>\n",
       "      <td>220309.0</td>\n",
       "      <td>1</td>\n",
       "    </tr>\n",
       "    <tr>\n",
       "      <th>87830</th>\n",
       "      <td>220310.0</td>\n",
       "      <td>1</td>\n",
       "    </tr>\n",
       "    <tr>\n",
       "      <th>87831</th>\n",
       "      <td>220311.0</td>\n",
       "      <td>1</td>\n",
       "    </tr>\n",
       "    <tr>\n",
       "      <th>87832</th>\n",
       "      <td>220312.0</td>\n",
       "      <td>1</td>\n",
       "    </tr>\n",
       "    <tr>\n",
       "      <th>87833</th>\n",
       "      <td>220313.0</td>\n",
       "      <td>1</td>\n",
       "    </tr>\n",
       "    <tr>\n",
       "      <th>87834</th>\n",
       "      <td>220314.0</td>\n",
       "      <td>1</td>\n",
       "    </tr>\n",
       "    <tr>\n",
       "      <th>87835</th>\n",
       "      <td>220315.0</td>\n",
       "      <td>0</td>\n",
       "    </tr>\n",
       "    <tr>\n",
       "      <th>87836</th>\n",
       "      <td>220316.0</td>\n",
       "      <td>0</td>\n",
       "    </tr>\n",
       "    <tr>\n",
       "      <th>87837</th>\n",
       "      <td>220317.0</td>\n",
       "      <td>0</td>\n",
       "    </tr>\n",
       "    <tr>\n",
       "      <th>87838</th>\n",
       "      <td>220318.0</td>\n",
       "      <td>0</td>\n",
       "    </tr>\n",
       "    <tr>\n",
       "      <th>87839</th>\n",
       "      <td>220319.0</td>\n",
       "      <td>0</td>\n",
       "    </tr>\n",
       "    <tr>\n",
       "      <th>87840</th>\n",
       "      <td>220320.0</td>\n",
       "      <td>0</td>\n",
       "    </tr>\n",
       "  </tbody>\n",
       "</table>\n",
       "<p>87841 rows × 2 columns</p>\n",
       "</div>"
      ],
      "text/plain": [
       "       timestamp_(min)  label\n",
       "0             132480.0      0\n",
       "1             132481.0      0\n",
       "2             132482.0      0\n",
       "3             132483.0      0\n",
       "4             132484.0      0\n",
       "5             132485.0      0\n",
       "6             132486.0      0\n",
       "7             132487.0      0\n",
       "8             132488.0      0\n",
       "9             132489.0      0\n",
       "10            132490.0      0\n",
       "11            132491.0      0\n",
       "12            132492.0      0\n",
       "13            132493.0      0\n",
       "14            132494.0      0\n",
       "15            132495.0      0\n",
       "16            132496.0      0\n",
       "17            132497.0      0\n",
       "18            132498.0      0\n",
       "19            132499.0      0\n",
       "20            132500.0      0\n",
       "21            132501.0      0\n",
       "22            132502.0      0\n",
       "23            132503.0      0\n",
       "24            132504.0      0\n",
       "25            132505.0      0\n",
       "26            132506.0      0\n",
       "27            132507.0      0\n",
       "28            132508.0      0\n",
       "29            132509.0      0\n",
       "...                ...    ...\n",
       "87811         220291.0      1\n",
       "87812         220292.0      1\n",
       "87813         220293.0      1\n",
       "87814         220294.0      1\n",
       "87815         220295.0      1\n",
       "87816         220296.0      1\n",
       "87817         220297.0      1\n",
       "87818         220298.0      1\n",
       "87819         220299.0      1\n",
       "87820         220300.0      1\n",
       "87821         220301.0      1\n",
       "87822         220302.0      1\n",
       "87823         220303.0      1\n",
       "87824         220304.0      1\n",
       "87825         220305.0      1\n",
       "87826         220306.0      1\n",
       "87827         220307.0      1\n",
       "87828         220308.0      1\n",
       "87829         220309.0      1\n",
       "87830         220310.0      1\n",
       "87831         220311.0      1\n",
       "87832         220312.0      1\n",
       "87833         220313.0      1\n",
       "87834         220314.0      1\n",
       "87835         220315.0      0\n",
       "87836         220316.0      0\n",
       "87837         220317.0      0\n",
       "87838         220318.0      0\n",
       "87839         220319.0      0\n",
       "87840         220320.0      0\n",
       "\n",
       "[87841 rows x 2 columns]"
      ]
     },
     "execution_count": 60,
     "metadata": {},
     "output_type": "execute_result"
    }
   ],
   "source": [
    "labels_df"
   ]
  },
  {
   "cell_type": "code",
   "execution_count": 66,
   "metadata": {},
   "outputs": [],
   "source": [
    "labels = [float(labels_df[\"label\"][i]) for i in range(len(labels_df))]"
   ]
  },
  {
   "cell_type": "markdown",
   "metadata": {},
   "source": [
    "### Normalize attack"
   ]
  },
  {
   "cell_type": "code",
   "execution_count": 68,
   "metadata": {},
   "outputs": [],
   "source": [
    "from sklearn import preprocessing\n",
    "\n",
    "x = attack.values \n",
    "x_scaled = min_max_scaler.transform(x)\n",
    "attack = pd.DataFrame(x_scaled)"
   ]
  },
  {
   "cell_type": "code",
   "execution_count": 69,
   "metadata": {},
   "outputs": [
    {
     "data": {
      "text/html": [
       "<div>\n",
       "<style scoped>\n",
       "    .dataframe tbody tr th:only-of-type {\n",
       "        vertical-align: middle;\n",
       "    }\n",
       "\n",
       "    .dataframe tbody tr th {\n",
       "        vertical-align: top;\n",
       "    }\n",
       "\n",
       "    .dataframe thead th {\n",
       "        text-align: right;\n",
       "    }\n",
       "</style>\n",
       "<table border=\"1\" class=\"dataframe\">\n",
       "  <thead>\n",
       "    <tr style=\"text-align: right;\">\n",
       "      <th></th>\n",
       "      <th>0</th>\n",
       "      <th>1</th>\n",
       "      <th>2</th>\n",
       "      <th>3</th>\n",
       "      <th>4</th>\n",
       "      <th>5</th>\n",
       "      <th>6</th>\n",
       "      <th>7</th>\n",
       "      <th>8</th>\n",
       "      <th>9</th>\n",
       "      <th>...</th>\n",
       "      <th>15</th>\n",
       "      <th>16</th>\n",
       "      <th>17</th>\n",
       "      <th>18</th>\n",
       "      <th>19</th>\n",
       "      <th>20</th>\n",
       "      <th>21</th>\n",
       "      <th>22</th>\n",
       "      <th>23</th>\n",
       "      <th>24</th>\n",
       "    </tr>\n",
       "  </thead>\n",
       "  <tbody>\n",
       "    <tr>\n",
       "      <th>0</th>\n",
       "      <td>0.562567</td>\n",
       "      <td>0.997994</td>\n",
       "      <td>0.320164</td>\n",
       "      <td>0.943156</td>\n",
       "      <td>0.445269</td>\n",
       "      <td>0.412541</td>\n",
       "      <td>0.326087</td>\n",
       "      <td>0.400763</td>\n",
       "      <td>0.491746</td>\n",
       "      <td>0.499890</td>\n",
       "      <td>...</td>\n",
       "      <td>0.314090</td>\n",
       "      <td>0.458432</td>\n",
       "      <td>0.280697</td>\n",
       "      <td>0.300064</td>\n",
       "      <td>0.273950</td>\n",
       "      <td>0.020236</td>\n",
       "      <td>0.157895</td>\n",
       "      <td>0.062437</td>\n",
       "      <td>0.008715</td>\n",
       "      <td>0.097674</td>\n",
       "    </tr>\n",
       "    <tr>\n",
       "      <th>1</th>\n",
       "      <td>0.562663</td>\n",
       "      <td>0.997882</td>\n",
       "      <td>0.322051</td>\n",
       "      <td>0.943261</td>\n",
       "      <td>0.489054</td>\n",
       "      <td>0.433168</td>\n",
       "      <td>0.369565</td>\n",
       "      <td>0.416455</td>\n",
       "      <td>0.513990</td>\n",
       "      <td>0.518492</td>\n",
       "      <td>...</td>\n",
       "      <td>0.309838</td>\n",
       "      <td>0.482016</td>\n",
       "      <td>0.277158</td>\n",
       "      <td>0.320698</td>\n",
       "      <td>0.271754</td>\n",
       "      <td>0.018550</td>\n",
       "      <td>0.157895</td>\n",
       "      <td>0.083363</td>\n",
       "      <td>0.010893</td>\n",
       "      <td>0.102326</td>\n",
       "    </tr>\n",
       "  </tbody>\n",
       "</table>\n",
       "<p>2 rows × 25 columns</p>\n",
       "</div>"
      ],
      "text/plain": [
       "         0         1         2         3         4         5         6   \\\n",
       "0  0.562567  0.997994  0.320164  0.943156  0.445269  0.412541  0.326087   \n",
       "1  0.562663  0.997882  0.322051  0.943261  0.489054  0.433168  0.369565   \n",
       "\n",
       "         7         8         9     ...           15        16        17  \\\n",
       "0  0.400763  0.491746  0.499890    ...     0.314090  0.458432  0.280697   \n",
       "1  0.416455  0.513990  0.518492    ...     0.309838  0.482016  0.277158   \n",
       "\n",
       "         18        19        20        21        22        23        24  \n",
       "0  0.300064  0.273950  0.020236  0.157895  0.062437  0.008715  0.097674  \n",
       "1  0.320698  0.271754  0.018550  0.157895  0.083363  0.010893  0.102326  \n",
       "\n",
       "[2 rows x 25 columns]"
      ]
     },
     "execution_count": 69,
     "metadata": {},
     "output_type": "execute_result"
    }
   ],
   "source": [
    "attack.head(2)\n"
   ]
  },
  {
   "cell_type": "markdown",
   "metadata": {},
   "source": [
    "### Windows"
   ]
  },
  {
   "cell_type": "code",
   "execution_count": 70,
   "metadata": {},
   "outputs": [],
   "source": [
    "window_size=12\n"
   ]
  },
  {
   "cell_type": "code",
   "execution_count": 71,
   "metadata": {},
   "outputs": [
    {
     "data": {
      "text/plain": [
       "(129772, 12, 25)"
      ]
     },
     "execution_count": 71,
     "metadata": {},
     "output_type": "execute_result"
    }
   ],
   "source": [
    "windows_normal=normal.values[np.arange(window_size)[None, :] + np.arange(normal.shape[0]-window_size)[:, None]]\n",
    "windows_normal.shape"
   ]
  },
  {
   "cell_type": "code",
   "execution_count": 72,
   "metadata": {},
   "outputs": [
    {
     "data": {
      "text/plain": [
       "(87829, 12, 25)"
      ]
     },
     "execution_count": 72,
     "metadata": {},
     "output_type": "execute_result"
    }
   ],
   "source": [
    "windows_attack=attack.values[np.arange(window_size)[None, :] + np.arange(attack.shape[0]-window_size)[:, None]]\n",
    "windows_attack.shape"
   ]
  },
  {
   "cell_type": "markdown",
   "metadata": {},
   "source": [
    "### Training"
   ]
  },
  {
   "cell_type": "code",
   "execution_count": 73,
   "metadata": {},
   "outputs": [],
   "source": [
    "import torch.utils.data as data_utils\n",
    "\n",
    "BATCH_SIZE =  7919\n",
    "N_EPOCHS = 100\n",
    "hidden_size = 100\n",
    "\n",
    "w_size=windows_normal.shape[1]*windows_normal.shape[2]\n",
    "z_size=windows_normal.shape[1]*hidden_size\n",
    "\n",
    "windows_normal_train = windows_normal[:int(np.floor(.8 *  windows_normal.shape[0]))]\n",
    "windows_normal_val = windows_normal[int(np.floor(.8 *  windows_normal.shape[0])):int(np.floor(windows_normal.shape[0]))]\n",
    "\n",
    "train_loader = torch.utils.data.DataLoader(data_utils.TensorDataset(\n",
    "    torch.from_numpy(windows_normal_train).float().view(([windows_normal_train.shape[0],w_size]))\n",
    ") , batch_size=BATCH_SIZE, shuffle=False, num_workers=0)\n",
    "\n",
    "val_loader = torch.utils.data.DataLoader(data_utils.TensorDataset(\n",
    "    torch.from_numpy(windows_normal_val).float().view(([windows_normal_val.shape[0],w_size]))\n",
    ") , batch_size=BATCH_SIZE, shuffle=False, num_workers=0)\n",
    "\n",
    "test_loader = torch.utils.data.DataLoader(data_utils.TensorDataset(\n",
    "    torch.from_numpy(windows_attack).float().view(([windows_attack.shape[0],w_size]))\n",
    ") , batch_size=BATCH_SIZE, shuffle=False, num_workers=0)\n",
    "\n",
    "model = UsadModel(w_size, z_size)\n",
    "model = to_device(model,device)"
   ]
  },
  {
   "cell_type": "code",
   "execution_count": 74,
   "metadata": {},
   "outputs": [
    {
     "name": "stdout",
     "output_type": "stream",
     "text": [
      "Epoch [0], val_loss1: 0.0285, val_loss2: 0.0295\n",
      "Epoch [1], val_loss1: 0.0240, val_loss2: 0.0019\n",
      "Epoch [2], val_loss1: 0.0187, val_loss2: -0.0058\n",
      "Epoch [3], val_loss1: 0.0188, val_loss2: -0.0087\n",
      "Epoch [4], val_loss1: 0.0199, val_loss2: -0.0111\n",
      "Epoch [5], val_loss1: 0.0206, val_loss2: -0.0140\n",
      "Epoch [6], val_loss1: 0.0266, val_loss2: -0.0192\n",
      "Epoch [7], val_loss1: 0.0274, val_loss2: -0.0201\n",
      "Epoch [8], val_loss1: 0.0247, val_loss2: -0.0194\n",
      "Epoch [9], val_loss1: 0.0229, val_loss2: -0.0185\n",
      "Epoch [10], val_loss1: 0.0225, val_loss2: -0.0185\n",
      "Epoch [11], val_loss1: 0.0227, val_loss2: -0.0190\n",
      "Epoch [12], val_loss1: 0.0225, val_loss2: -0.0191\n",
      "Epoch [13], val_loss1: 0.0225, val_loss2: -0.0194\n",
      "Epoch [14], val_loss1: 0.0225, val_loss2: -0.0196\n",
      "Epoch [15], val_loss1: 0.0225, val_loss2: -0.0198\n",
      "Epoch [16], val_loss1: 0.0225, val_loss2: -0.0199\n",
      "Epoch [17], val_loss1: 0.0225, val_loss2: -0.0201\n",
      "Epoch [18], val_loss1: 0.0224, val_loss2: -0.0201\n",
      "Epoch [19], val_loss1: 0.0222, val_loss2: -0.0199\n",
      "Epoch [20], val_loss1: 0.0223, val_loss2: -0.0201\n",
      "Epoch [21], val_loss1: 0.0226, val_loss2: -0.0205\n",
      "Epoch [22], val_loss1: 0.0218, val_loss2: -0.0198\n",
      "Epoch [23], val_loss1: 0.0225, val_loss2: -0.0203\n",
      "Epoch [24], val_loss1: 0.0254, val_loss2: -0.0231\n",
      "Epoch [25], val_loss1: 0.0269, val_loss2: -0.0249\n",
      "Epoch [26], val_loss1: 0.0266, val_loss2: -0.0246\n",
      "Epoch [27], val_loss1: 0.0248, val_loss2: -0.0228\n",
      "Epoch [28], val_loss1: 0.0236, val_loss2: -0.0218\n",
      "Epoch [29], val_loss1: 0.0245, val_loss2: -0.0228\n",
      "Epoch [30], val_loss1: 0.0203, val_loss2: -0.0187\n",
      "Epoch [31], val_loss1: 0.0209, val_loss2: -0.0191\n",
      "Epoch [32], val_loss1: 0.0232, val_loss2: -0.0217\n",
      "Epoch [33], val_loss1: 0.0221, val_loss2: -0.0206\n",
      "Epoch [34], val_loss1: 0.0225, val_loss2: -0.0211\n",
      "Epoch [35], val_loss1: 0.0224, val_loss2: -0.0210\n",
      "Epoch [36], val_loss1: 0.0210, val_loss2: -0.0198\n",
      "Epoch [37], val_loss1: 0.0204, val_loss2: -0.0192\n",
      "Epoch [38], val_loss1: 0.0226, val_loss2: -0.0212\n",
      "Epoch [39], val_loss1: 0.0263, val_loss2: -0.0251\n",
      "Epoch [40], val_loss1: 0.0238, val_loss2: -0.0225\n",
      "Epoch [41], val_loss1: 0.0242, val_loss2: -0.0230\n",
      "Epoch [42], val_loss1: 0.0235, val_loss2: -0.0224\n",
      "Epoch [43], val_loss1: 0.0217, val_loss2: -0.0207\n",
      "Epoch [44], val_loss1: 0.0215, val_loss2: -0.0205\n",
      "Epoch [45], val_loss1: 0.0210, val_loss2: -0.0200\n",
      "Epoch [46], val_loss1: 0.0192, val_loss2: -0.0182\n",
      "Epoch [47], val_loss1: 0.0219, val_loss2: -0.0209\n",
      "Epoch [48], val_loss1: 0.0219, val_loss2: -0.0210\n",
      "Epoch [49], val_loss1: 0.0223, val_loss2: -0.0214\n",
      "Epoch [50], val_loss1: 0.0209, val_loss2: -0.0200\n",
      "Epoch [51], val_loss1: 0.0199, val_loss2: -0.0191\n",
      "Epoch [52], val_loss1: 0.0205, val_loss2: -0.0196\n",
      "Epoch [53], val_loss1: 0.0206, val_loss2: -0.0197\n",
      "Epoch [54], val_loss1: 0.0200, val_loss2: -0.0192\n",
      "Epoch [55], val_loss1: 0.0197, val_loss2: -0.0190\n",
      "Epoch [56], val_loss1: 0.0205, val_loss2: -0.0197\n",
      "Epoch [57], val_loss1: 0.0208, val_loss2: -0.0200\n",
      "Epoch [58], val_loss1: 0.0213, val_loss2: -0.0205\n",
      "Epoch [59], val_loss1: 0.0232, val_loss2: -0.0224\n",
      "Epoch [60], val_loss1: 0.0217, val_loss2: -0.0209\n",
      "Epoch [61], val_loss1: 0.0202, val_loss2: -0.0195\n",
      "Epoch [62], val_loss1: 0.0198, val_loss2: -0.0191\n",
      "Epoch [63], val_loss1: 0.0194, val_loss2: -0.0188\n",
      "Epoch [64], val_loss1: 0.0206, val_loss2: -0.0199\n",
      "Epoch [65], val_loss1: 0.0221, val_loss2: -0.0214\n",
      "Epoch [66], val_loss1: 0.0228, val_loss2: -0.0220\n",
      "Epoch [67], val_loss1: 0.0228, val_loss2: -0.0221\n",
      "Epoch [68], val_loss1: 0.0222, val_loss2: -0.0216\n",
      "Epoch [69], val_loss1: 0.0218, val_loss2: -0.0212\n",
      "Epoch [70], val_loss1: 0.0221, val_loss2: -0.0214\n",
      "Epoch [71], val_loss1: 0.0214, val_loss2: -0.0207\n",
      "Epoch [72], val_loss1: 0.0210, val_loss2: -0.0204\n",
      "Epoch [73], val_loss1: 0.0205, val_loss2: -0.0200\n",
      "Epoch [74], val_loss1: 0.0203, val_loss2: -0.0197\n",
      "Epoch [75], val_loss1: 0.0200, val_loss2: -0.0194\n",
      "Epoch [76], val_loss1: 0.0197, val_loss2: -0.0191\n",
      "Epoch [77], val_loss1: 0.0192, val_loss2: -0.0186\n",
      "Epoch [78], val_loss1: 0.0194, val_loss2: -0.0189\n",
      "Epoch [79], val_loss1: 0.0185, val_loss2: -0.0179\n",
      "Epoch [80], val_loss1: 0.0187, val_loss2: -0.0182\n",
      "Epoch [81], val_loss1: 0.0186, val_loss2: -0.0181\n",
      "Epoch [82], val_loss1: 0.0188, val_loss2: -0.0182\n",
      "Epoch [83], val_loss1: 0.0198, val_loss2: -0.0192\n",
      "Epoch [84], val_loss1: 0.0196, val_loss2: -0.0190\n",
      "Epoch [85], val_loss1: 0.0225, val_loss2: -0.0219\n",
      "Epoch [86], val_loss1: 0.0215, val_loss2: -0.0210\n",
      "Epoch [87], val_loss1: 0.0218, val_loss2: -0.0213\n",
      "Epoch [88], val_loss1: 0.0219, val_loss2: -0.0213\n",
      "Epoch [89], val_loss1: 0.0217, val_loss2: -0.0212\n",
      "Epoch [90], val_loss1: 0.0200, val_loss2: -0.0196\n",
      "Epoch [91], val_loss1: 0.0196, val_loss2: -0.0192\n",
      "Epoch [92], val_loss1: 0.0189, val_loss2: -0.0185\n",
      "Epoch [93], val_loss1: 0.0189, val_loss2: -0.0185\n",
      "Epoch [94], val_loss1: 0.0205, val_loss2: -0.0200\n",
      "Epoch [95], val_loss1: 0.0212, val_loss2: -0.0207\n",
      "Epoch [96], val_loss1: 0.0217, val_loss2: -0.0213\n",
      "Epoch [97], val_loss1: 0.0208, val_loss2: -0.0203\n",
      "Epoch [98], val_loss1: 0.0230, val_loss2: -0.0225\n",
      "Epoch [99], val_loss1: 0.0197, val_loss2: -0.0193\n"
     ]
    }
   ],
   "source": [
    "history = training(N_EPOCHS,model,train_loader,val_loader)"
   ]
  },
  {
   "cell_type": "code",
   "execution_count": 75,
   "metadata": {},
   "outputs": [
    {
     "data": {
      "image/png": "[encoded data removed]",
      "text/plain": [
       "<Figure size 432x288 with 1 Axes>"
      ]
     },
     "metadata": {
      "needs_background": "light"
     },
     "output_type": "display_data"
    }
   ],
   "source": [
    "plot_history(history)"
   ]
  },
  {
   "cell_type": "code",
   "execution_count": 76,
   "metadata": {},
   "outputs": [],
   "source": [
    "torch.save({\n",
    "            'encoder': model.encoder.state_dict(),\n",
    "            'decoder1': model.decoder1.state_dict(),\n",
    "            'decoder2': model.decoder2.state_dict()\n",
    "            }, \"model.pth\")"
   ]
  },
  {
   "cell_type": "markdown",
   "metadata": {},
   "source": [
    "### Test"
   ]
  },
  {
   "cell_type": "code",
   "execution_count": 77,
   "metadata": {},
   "outputs": [
    {
     "data": {
      "text/plain": [
       "<All keys matched successfully>"
      ]
     },
     "execution_count": 77,
     "metadata": {},
     "output_type": "execute_result"
    }
   ],
   "source": [
    "checkpoint = torch.load(\"model.pth\")\n",
    "\n",
    "model.encoder.load_state_dict(checkpoint['encoder'])\n",
    "model.decoder1.load_state_dict(checkpoint['decoder1'])\n",
    "model.decoder2.load_state_dict(checkpoint['decoder2'])"
   ]
  },
  {
   "cell_type": "code",
   "execution_count": 78,
   "metadata": {},
   "outputs": [],
   "source": [
    "results=testing(model,test_loader)\n"
   ]
  },
  {
   "cell_type": "code",
   "execution_count": 79,
   "metadata": {},
   "outputs": [],
   "source": [
    "\n",
    "windows_labels=[]\n",
    "for i in range(len(labels)-window_size):\n",
    "    windows_labels.append(list(np.int_(labels[i:i+window_size])))"
   ]
  },
  {
   "cell_type": "code",
   "execution_count": 80,
   "metadata": {},
   "outputs": [],
   "source": [
    "y_test = [1.0 if (np.sum(window) > 0) else 0 for window in windows_labels ]\n"
   ]
  },
  {
   "cell_type": "code",
   "execution_count": 81,
   "metadata": {},
   "outputs": [],
   "source": [
    "y_pred=np.concatenate([torch.stack(results[:-1]).flatten().detach().cpu().numpy(),\n",
    "                              results[-1].flatten().detach().cpu().numpy()])"
   ]
  },
  {
   "cell_type": "code",
   "execution_count": 82,
   "metadata": {},
   "outputs": [
    {
     "data": {
      "image/png": "[encoded data removed]",
      "text/plain": [
       "<Figure size 432x288 with 1 Axes>"
      ]
     },
     "metadata": {
      "needs_background": "light"
     },
     "output_type": "display_data"
    }
   ],
   "source": [
    "threshold=ROC(y_test,y_pred)\n"
   ]
  },
  {
   "cell_type": "code",
   "execution_count": null,
   "metadata": {},
   "outputs": [],
   "source": []
  }
 ],
 "metadata": {
  "kernelspec": {
   "display_name": "Python 3.7.0 ('base': conda)",
   "language": "python",
   "name": "python3"
  },
  "language_info": {
   "codemirror_mode": {
    "name": "ipython",
    "version": 3
   },
   "file_extension": ".py",
   "mimetype": "text/x-python",
   "name": "python",
   "nbconvert_exporter": "python",
   "pygments_lexer": "ipython3",
   "version": "3.7.0"
  },
  "orig_nbformat": 4,
  "vscode": {
   "interpreter": {
    "hash": "b45ecbb8e80b355e3deef69ddcdcfb2bbb117fcb11cd7d389b99c49babd160c0"
   }
  }
 },
 "nbformat": 4,
 "nbformat_minor": 2
}
